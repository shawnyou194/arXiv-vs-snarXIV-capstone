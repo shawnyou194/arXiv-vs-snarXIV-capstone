{
 "cells": [
  {
   "cell_type": "code",
   "execution_count": 1,
   "metadata": {},
   "outputs": [
    {
     "name": "stderr",
     "output_type": "stream",
     "text": [
      "/Users/shawnyou/opt/anaconda3/lib/python3.7/site-packages/statsmodels/tools/_testing.py:19: FutureWarning: pandas.util.testing is deprecated. Use the functions in the public API at pandas.testing instead.\n",
      "  import pandas.util.testing as tm\n"
     ]
    }
   ],
   "source": [
    "import numpy as np\n",
    "import pandas as pd\n",
    "import re\n",
    "from sklearn.feature_extraction.text import CountVectorizer\n",
    "from sklearn.feature_extraction.text import TfidfTransformer\n",
    "from sklearn.feature_extraction.text import TfidfVectorizer\n",
    "from sklearn.metrics.pairwise import cosine_similarity\n",
    "from sklearn.model_selection import train_test_split\n",
    "from sklearn.metrics import accuracy_score, classification_report\n",
    "from sklearn.metrics import confusion_matrix\n",
    "from sklearn.naive_bayes import MultinomialNB\n",
    "from sklearn.linear_model import LogisticRegression\n",
    "from sklearn.svm import SVC\n",
    "from sklearn.tree import DecisionTreeClassifier\n",
    "from sklearn.model_selection import GridSearchCV\n",
    "import seaborn as sb\n",
    "import matplotlib.pyplot as plt\n",
    "import neattext.functions as nfx\n",
    "import nltk\n",
    "from nltk.stem import WordNetLemmatizer\n",
    "from sklearn.inspection import permutation_importance\n",
    "from sklearn.model_selection import cross_val_score"
   ]
  },
  {
   "cell_type": "markdown",
   "metadata": {},
   "source": [
    "# Data Collection"
   ]
  },
  {
   "cell_type": "markdown",
   "metadata": {},
   "source": [
    "## For code, see DataCollection.ipynb"
   ]
  },
  {
   "cell_type": "code",
   "execution_count": 2,
   "metadata": {},
   "outputs": [],
   "source": [
    "# titles have already been stemmed and lemmatized\n",
    "df = pd.read_csv('training_data.csv')\n",
    "df_test = pd.read_csv('testing_data.csv') # used at the very end "
   ]
  },
  {
   "cell_type": "code",
   "execution_count": 6,
   "metadata": {},
   "outputs": [
    {
     "name": "stdout",
     "output_type": "stream",
     "text": [
      "title    395\n",
      "label    395\n",
      "dtype: int64\n",
      "title    394\n",
      "label    394\n",
      "dtype: int64\n",
      "title    100\n",
      "label    100\n",
      "dtype: int64\n",
      "title    100\n",
      "label    100\n",
      "dtype: int64\n"
     ]
    }
   ],
   "source": [
    "print(df[df['label'] == 'snarxiv'].count())\n",
    "print(df[df['label'] == 'arxiv'].count())\n",
    "print(df_test[df_test['label'] == 'snarxiv'].count())\n",
    "print(df_test[df_test['label'] == 'arxiv'].count())"
   ]
  },
  {
   "cell_type": "markdown",
   "metadata": {},
   "source": [
    "# Feature Engineering"
   ]
  },
  {
   "cell_type": "markdown",
   "metadata": {},
   "source": [
    "## Simple features"
   ]
  },
  {
   "cell_type": "code",
   "execution_count": 3,
   "metadata": {},
   "outputs": [],
   "source": [
    "special_char = ['^', '=', '$', '{', '}', '+' ,'-', '*', '/', '\\\\', '$', '#']\n",
    "df['ContainsSpecialChar'] = df['title'].str.contains('|'.join(map(re.escape, special_char)))\n",
    "df['ContainsNumber'] = df['title'].str.contains(r'\\d', regex=True)\n",
    "df['title_word_count'] = df['title'].apply(lambda x: len(str(x).split()))\n",
    "df['length'] = df['title'].str.len()"
   ]
  },
  {
   "cell_type": "markdown",
   "metadata": {},
   "source": [
    "## Cosine Similarity"
   ]
  },
  {
   "cell_type": "code",
   "execution_count": 4,
   "metadata": {},
   "outputs": [
    {
     "name": "stderr",
     "output_type": "stream",
     "text": [
      "/Users/shawnyou/opt/anaconda3/lib/python3.7/site-packages/sklearn/utils/deprecation.py:87: FutureWarning: Function get_feature_names is deprecated; get_feature_names is deprecated in 1.0 and will be removed in 1.2. Please use get_feature_names_out instead.\n",
      "  warnings.warn(msg, category=FutureWarning)\n",
      "/Users/shawnyou/opt/anaconda3/lib/python3.7/site-packages/sklearn/utils/deprecation.py:87: FutureWarning: Function get_feature_names is deprecated; get_feature_names is deprecated in 1.0 and will be removed in 1.2. Please use get_feature_names_out instead.\n",
      "  warnings.warn(msg, category=FutureWarning)\n"
     ]
    }
   ],
   "source": [
    "snarxiv = df[df['label'] == 'snarxiv']\n",
    "arxiv = df[df['label'] == 'arxiv']\n",
    "\n",
    "tfidf_vectorizer = TfidfVectorizer()\n",
    "result_vec = tfidf_vectorizer.fit_transform(snarxiv['title'].values.tolist())\n",
    "snarxiv_vect = pd.DataFrame(result_vec.todense(), columns=tfidf_vectorizer.get_feature_names())\n",
    "\n",
    "vect_list = snarxiv_vect.values.tolist()\n",
    "\n",
    "avg_cos_sim_list = []\n",
    "for i in range(len(vect_list)):\n",
    "    store_avg_cos_sim = []\n",
    "    for row in range(len(vect_list)):\n",
    "        if i != row:\n",
    "            cos_sim = cosine_similarity([vect_list[i]], [vect_list[row]])\n",
    "            store_avg_cos_sim.append(cos_sim)\n",
    "    avg_cos_sim = sum(store_avg_cos_sim) / len(store_avg_cos_sim)\n",
    "    avg_cos_sim_list.append(avg_cos_sim)\n",
    "    \n",
    "snarxiv_cos_sim_list = [i[0] for i in avg_cos_sim_list]\n",
    "snarxiv_cos_sim_df = pd.DataFrame(snarxiv_cos_sim_list)\n",
    "\n",
    "result_vec = tfidf_vectorizer.transform(arxiv['title'].values.tolist())\n",
    "arxiv_vect = pd.DataFrame(result_vec.todense(), columns=tfidf_vectorizer.get_feature_names())\n",
    "arxiv_list = arxiv_vect.values.tolist()\n",
    "\n",
    "avg_cos_list = []\n",
    "for i in range(len(arxiv_list)):\n",
    "    store_avg = []\n",
    "    for j in range(len(vect_list)):\n",
    "        cos = cosine_similarity([arxiv_list[i]], [vect_list[j]])\n",
    "        store_avg.append(cos)\n",
    "    avg = sum(store_avg) / len(store_avg)\n",
    "    avg_cos_list.append(avg)\n",
    "    \n",
    "arxiv_cos_sim_list = [i[0] for i in avg_cos_list]\n",
    "arxiv_cos_sim_df = pd.DataFrame(arxiv_cos_sim_list)\n",
    "\n",
    "cos_sim_concat = pd.concat([snarxiv_cos_sim_df, arxiv_cos_sim_df])"
   ]
  },
  {
   "cell_type": "code",
   "execution_count": 5,
   "metadata": {},
   "outputs": [],
   "source": [
    "cos_sim_concat = cos_sim_concat.reset_index()\n",
    "df = pd.concat([df, cos_sim_concat], axis = 1)\n",
    "df = df.rename(columns={0: \"cos_sim\"})"
   ]
  },
  {
   "cell_type": "markdown",
   "metadata": {},
   "source": [
    "## Rare Words"
   ]
  },
  {
   "cell_type": "code",
   "execution_count": 6,
   "metadata": {},
   "outputs": [],
   "source": [
    "eng_dict = pd.read_csv('unigram_freq.csv')\n",
    "eng_list = eng_dict['word'].to_list()\n",
    "\n",
    "# creating a dictionary of physics words\n",
    "df['split_txt'] = [x.split(' ') for x in df['title']]\n",
    "f1_words = df['split_txt'].tolist()\n",
    "f1_words_list = [item for row in f1_words for item in row]\n",
    "words_list = list(filter(None,f1_words_list))\n",
    "\n",
    "words_list_no_dupe = list(set(words_list))\n",
    "\n",
    "f1_word_dict = dict.fromkeys(words_list_no_dupe, 0)\n",
    "\n",
    "for word in f1_word_dict:\n",
    "    for title in f1_words:\n",
    "        if word in title:\n",
    "            f1_word_dict[word] += 1\n",
    "f1_word_dict_norm = {key: value / df.index.size for key, value in f1_word_dict.items()}\n",
    "\n",
    "fold_dict = {}\n",
    "\n",
    "def rare_words_check(split_txt):\n",
    "    count = 0\n",
    "    for word in split_txt:\n",
    "        if word not in combined_word_dict:\n",
    "            count += 1\n",
    "    return count \n",
    "\n",
    "dictionary = {key: value for key, value in f1_word_dict_norm.items() if value >= 3/len(df)}\n",
    "keys = list(dictionary.keys())\n",
    "combined_word_dict = keys + eng_list \n",
    "\n",
    "df['rare_word'] = df['split_txt'].apply(rare_words_check)"
   ]
  },
  {
   "cell_type": "markdown",
   "metadata": {},
   "source": [
    "## Convert titles to vectors"
   ]
  },
  {
   "cell_type": "code",
   "execution_count": 7,
   "metadata": {},
   "outputs": [],
   "source": [
    "df = df[['title', 'cos_sim', 'ContainsSpecialChar', 'ContainsNumber', 'title_word_count',\n",
    "        'length', 'rare_word','label']]"
   ]
  },
  {
   "cell_type": "code",
   "execution_count": 8,
   "metadata": {},
   "outputs": [
    {
     "name": "stderr",
     "output_type": "stream",
     "text": [
      "/Users/shawnyou/opt/anaconda3/lib/python3.7/site-packages/sklearn/utils/deprecation.py:87: FutureWarning: Function get_feature_names is deprecated; get_feature_names is deprecated in 1.0 and will be removed in 1.2. Please use get_feature_names_out instead.\n",
      "  warnings.warn(msg, category=FutureWarning)\n"
     ]
    }
   ],
   "source": [
    "vectorizer = TfidfVectorizer()\n",
    "result_vec = vectorizer.fit_transform(df['title'].values.tolist())\n",
    "count_vect_df = pd.DataFrame(result_vec.todense(), columns=vectorizer.get_feature_names())\n",
    "count_concat = pd.concat([count_vect_df, df[['cos_sim', 'ContainsSpecialChar', 'ContainsNumber', \n",
    "                                             'title_word_count', 'length', \n",
    "                                             'rare_word', 'label']].reset_index()], axis = 1)\n",
    "count_concat = count_concat.drop(columns = 'index')"
   ]
  },
  {
   "cell_type": "markdown",
   "metadata": {},
   "source": [
    "## Normalizing features"
   ]
  },
  {
   "cell_type": "code",
   "execution_count": 9,
   "metadata": {},
   "outputs": [],
   "source": [
    "cos_mean = count_concat['cos_sim'].mean()\n",
    "cos_std = count_concat['cos_sim'].std()\n",
    "count_concat['cos_sim'] = (count_concat['cos_sim'] - cos_mean) / cos_std\n",
    "\n",
    "count_concat['ContainsSpecialChar'] = count_concat['ContainsSpecialChar'].astype(int)\n",
    "\n",
    "count_concat['ContainsNumber'] = count_concat['ContainsNumber'].astype(int)\n",
    "\n",
    "title_mean = count_concat['title_word_count'].mean()\n",
    "title_std = count_concat['title_word_count'].std()\n",
    "count_concat['title_word_count'] = (count_concat['title_word_count'] - title_mean) / title_std\n",
    "\n",
    "len_mean = count_concat['length'].mean()\n",
    "len_std = count_concat['length'].std()\n",
    "count_concat['length'] = (count_concat['length'] - len_mean) / len_std\n",
    "\n",
    "rare_mean = count_concat['rare_word'].mean()\n",
    "rare_std = count_concat['rare_word'].std()\n",
    "count_concat['rare_word'] = (count_concat['rare_word'] - rare_mean) / rare_std"
   ]
  },
  {
   "cell_type": "code",
   "execution_count": 10,
   "metadata": {},
   "outputs": [
    {
     "data": {
      "text/html": [
       "<div>\n",
       "<style scoped>\n",
       "    .dataframe tbody tr th:only-of-type {\n",
       "        vertical-align: middle;\n",
       "    }\n",
       "\n",
       "    .dataframe tbody tr th {\n",
       "        vertical-align: top;\n",
       "    }\n",
       "\n",
       "    .dataframe thead th {\n",
       "        text-align: right;\n",
       "    }\n",
       "</style>\n",
       "<table border=\"1\" class=\"dataframe\">\n",
       "  <thead>\n",
       "    <tr style=\"text-align: right;\">\n",
       "      <th></th>\n",
       "      <th>02</th>\n",
       "      <th>07050143</th>\n",
       "      <th>16</th>\n",
       "      <th>1dimensional</th>\n",
       "      <th>1duality</th>\n",
       "      <th>26</th>\n",
       "      <th>2d</th>\n",
       "      <th>2folds</th>\n",
       "      <th>2loop</th>\n",
       "      <th>2point</th>\n",
       "      <th>...</th>\n",
       "      <th>zm</th>\n",
       "      <th>γγ</th>\n",
       "      <th>λq</th>\n",
       "      <th>cos_sim</th>\n",
       "      <th>ContainsSpecialChar</th>\n",
       "      <th>ContainsNumber</th>\n",
       "      <th>title_word_count</th>\n",
       "      <th>length</th>\n",
       "      <th>rare_word</th>\n",
       "      <th>label</th>\n",
       "    </tr>\n",
       "  </thead>\n",
       "  <tbody>\n",
       "    <tr>\n",
       "      <th>0</th>\n",
       "      <td>0.0</td>\n",
       "      <td>0.0</td>\n",
       "      <td>0.0</td>\n",
       "      <td>0.0</td>\n",
       "      <td>0.0</td>\n",
       "      <td>0.0</td>\n",
       "      <td>0.0</td>\n",
       "      <td>0.0</td>\n",
       "      <td>0.0</td>\n",
       "      <td>0.0</td>\n",
       "      <td>...</td>\n",
       "      <td>0.0</td>\n",
       "      <td>0.0</td>\n",
       "      <td>0.0</td>\n",
       "      <td>-0.972017</td>\n",
       "      <td>0</td>\n",
       "      <td>1</td>\n",
       "      <td>-0.728168</td>\n",
       "      <td>-0.448572</td>\n",
       "      <td>0.625075</td>\n",
       "      <td>snarxiv</td>\n",
       "    </tr>\n",
       "    <tr>\n",
       "      <th>1</th>\n",
       "      <td>0.0</td>\n",
       "      <td>0.0</td>\n",
       "      <td>0.0</td>\n",
       "      <td>0.0</td>\n",
       "      <td>0.0</td>\n",
       "      <td>0.0</td>\n",
       "      <td>0.0</td>\n",
       "      <td>0.0</td>\n",
       "      <td>0.0</td>\n",
       "      <td>0.0</td>\n",
       "      <td>...</td>\n",
       "      <td>0.0</td>\n",
       "      <td>0.0</td>\n",
       "      <td>0.0</td>\n",
       "      <td>1.685259</td>\n",
       "      <td>0</td>\n",
       "      <td>0</td>\n",
       "      <td>2.585817</td>\n",
       "      <td>2.532380</td>\n",
       "      <td>-0.679645</td>\n",
       "      <td>snarxiv</td>\n",
       "    </tr>\n",
       "    <tr>\n",
       "      <th>2</th>\n",
       "      <td>0.0</td>\n",
       "      <td>0.0</td>\n",
       "      <td>0.0</td>\n",
       "      <td>0.0</td>\n",
       "      <td>0.0</td>\n",
       "      <td>0.0</td>\n",
       "      <td>0.0</td>\n",
       "      <td>0.0</td>\n",
       "      <td>0.0</td>\n",
       "      <td>0.0</td>\n",
       "      <td>...</td>\n",
       "      <td>0.0</td>\n",
       "      <td>0.0</td>\n",
       "      <td>0.0</td>\n",
       "      <td>0.767152</td>\n",
       "      <td>0</td>\n",
       "      <td>0</td>\n",
       "      <td>1.983275</td>\n",
       "      <td>2.127559</td>\n",
       "      <td>0.625075</td>\n",
       "      <td>snarxiv</td>\n",
       "    </tr>\n",
       "  </tbody>\n",
       "</table>\n",
       "<p>3 rows × 1277 columns</p>\n",
       "</div>"
      ],
      "text/plain": [
       "    02  07050143   16  1dimensional  1duality   26   2d  2folds  2loop  \\\n",
       "0  0.0       0.0  0.0           0.0       0.0  0.0  0.0     0.0    0.0   \n",
       "1  0.0       0.0  0.0           0.0       0.0  0.0  0.0     0.0    0.0   \n",
       "2  0.0       0.0  0.0           0.0       0.0  0.0  0.0     0.0    0.0   \n",
       "\n",
       "   2point  ...   zm   γγ   λq   cos_sim  ContainsSpecialChar  ContainsNumber  \\\n",
       "0     0.0  ...  0.0  0.0  0.0 -0.972017                    0               1   \n",
       "1     0.0  ...  0.0  0.0  0.0  1.685259                    0               0   \n",
       "2     0.0  ...  0.0  0.0  0.0  0.767152                    0               0   \n",
       "\n",
       "   title_word_count    length  rare_word    label  \n",
       "0         -0.728168 -0.448572   0.625075  snarxiv  \n",
       "1          2.585817  2.532380  -0.679645  snarxiv  \n",
       "2          1.983275  2.127559   0.625075  snarxiv  \n",
       "\n",
       "[3 rows x 1277 columns]"
      ]
     },
     "execution_count": 10,
     "metadata": {},
     "output_type": "execute_result"
    }
   ],
   "source": [
    "count_concat.head(3)"
   ]
  },
  {
   "cell_type": "markdown",
   "metadata": {},
   "source": [
    "# Model Creation"
   ]
  },
  {
   "cell_type": "code",
   "execution_count": 11,
   "metadata": {},
   "outputs": [],
   "source": [
    "X = count_concat.drop(['label'], axis=1)\n",
    "y = count_concat[['label']]\n",
    "\n",
    "X_train, X_test, y_train, y_test = train_test_split(\n",
    "    X, y, test_size=0.25,random_state = 395786)"
   ]
  },
  {
   "cell_type": "code",
   "execution_count": 12,
   "metadata": {},
   "outputs": [
    {
     "name": "stdout",
     "output_type": "stream",
     "text": [
      "Cross-validated scores: [0.81512605 0.81355932 0.77966102 0.75423729 0.77966102]\n",
      "Mean CV accuracy: 0.788448938897593\n",
      "Accuracy on test set: 0.797979797979798\n"
     ]
    }
   ],
   "source": [
    "# Create the Logistic Regression classifier\n",
    "logistic_classifier = LogisticRegression()\n",
    "\n",
    "# Perform cross-validation\n",
    "cv_scores = cross_val_score(logistic_classifier, X_train, y_train.values.ravel(), cv=5)  # Adjust cv as needed\n",
    "\n",
    "# Fit the model on the entire training set\n",
    "logistic_classifier.fit(X_train, y_train.values.ravel())\n",
    "\n",
    "# Make predictions on the test set\n",
    "y_pred = logistic_classifier.predict(X_test)\n",
    "\n",
    "# Calculate accuracy on the test set\n",
    "lg_accuracy_norare = accuracy_score(y_test, y_pred)\n",
    "\n",
    "# Print cross-validated scores\n",
    "print(\"Cross-validated scores:\", cv_scores)\n",
    "print(\"Mean CV accuracy:\", cv_scores.mean())\n",
    "\n",
    "# Print accuracy on the test set\n",
    "print(\"Accuracy on test set:\", lg_accuracy_norare)"
   ]
  },
  {
   "cell_type": "code",
   "execution_count": 13,
   "metadata": {},
   "outputs": [
    {
     "name": "stdout",
     "output_type": "stream",
     "text": [
      "0.7626262626262627\n",
      "                                             Metrics\n",
      "0                precision    recall  f1-score   ...\n",
      "2         arxiv       0.75      0.81      0.78   ...\n",
      "3       snarxiv       0.78      0.71      0.75   ...\n",
      "5      accuracy                           0.76   ...\n",
      "6     macro avg       0.76      0.76      0.76   ...\n",
      "7  weighted avg       0.76      0.76      0.76   ...\n"
     ]
    },
    {
     "name": "stderr",
     "output_type": "stream",
     "text": [
      "/Users/shawnyou/opt/anaconda3/lib/python3.7/site-packages/sklearn/model_selection/_validation.py:372: FitFailedWarning: \n",
      "150 fits failed out of a total of 750.\n",
      "The score on these train-test partitions for these parameters will be set to nan.\n",
      "If these failures are not expected, you can try to debug them by setting error_score='raise'.\n",
      "\n",
      "Below are more details about the failures:\n",
      "--------------------------------------------------------------------------------\n",
      "150 fits failed with the following error:\n",
      "Traceback (most recent call last):\n",
      "  File \"/Users/shawnyou/opt/anaconda3/lib/python3.7/site-packages/sklearn/model_selection/_validation.py\", line 680, in _fit_and_score\n",
      "    estimator.fit(X_train, y_train, **fit_params)\n",
      "  File \"/Users/shawnyou/opt/anaconda3/lib/python3.7/site-packages/sklearn/tree/_classes.py\", line 942, in fit\n",
      "    X_idx_sorted=X_idx_sorted,\n",
      "  File \"/Users/shawnyou/opt/anaconda3/lib/python3.7/site-packages/sklearn/tree/_classes.py\", line 254, in fit\n",
      "    % self.min_samples_split\n",
      "ValueError: min_samples_split must be an integer greater than 1 or a float in (0.0, 1.0]; got the integer 1\n",
      "\n",
      "  warnings.warn(some_fits_failed_message, FitFailedWarning)\n",
      "/Users/shawnyou/opt/anaconda3/lib/python3.7/site-packages/sklearn/model_selection/_search.py:972: UserWarning: One or more of the test scores are non-finite: [       nan 0.73264492 0.73433984 0.73433984 0.73433984        nan\n",
      " 0.73433984 0.73264492 0.73433984 0.73433984        nan 0.73433984\n",
      " 0.73433984 0.73433984 0.73433984        nan 0.73095001 0.73095001\n",
      " 0.73095001 0.73095001        nan 0.73942458 0.73942458 0.73942458\n",
      " 0.73942458        nan 0.72088022 0.7191853  0.72257513 0.72088022\n",
      "        nan 0.72088022 0.7191853  0.72088022 0.71749039        nan\n",
      " 0.71749039 0.71579547 0.71749039 0.71579547        nan 0.72088022\n",
      " 0.72088022 0.72088022 0.7191853         nan 0.72088022 0.72088022\n",
      " 0.72088022 0.72088022        nan 0.71410056 0.71919954 0.7141148\n",
      " 0.71750463        nan 0.7191853  0.71749039 0.71579547 0.70903005\n",
      "        nan 0.71579547 0.71410056 0.71410056 0.71410056        nan\n",
      " 0.71243413 0.71243413 0.71243413 0.71243413        nan 0.71749039\n",
      " 0.71749039 0.71749039 0.71749039        nan 0.71412904 0.71921379\n",
      " 0.71751887 0.71921379        nan 0.71073921 0.71751887 0.71412904\n",
      " 0.71751887        nan 0.71244837 0.71075345 0.70566871 0.70905854\n",
      "        nan 0.70397379 0.70566871 0.70566871 0.70566871        nan\n",
      " 0.69730808 0.70235009 0.69730808 0.69730808        nan 0.73443954\n",
      " 0.73782937 0.73275887 0.73273038        nan 0.73273038 0.72596496\n",
      " 0.72765988 0.73274462        nan 0.71582396 0.71412904 0.71921379\n",
      " 0.71751887        nan 0.71921379 0.71582396 0.71921379 0.71921379\n",
      "        nan 0.68709586 0.69381854 0.70903005 0.70394531        nan\n",
      " 0.74797037 0.74459479 0.7445663  0.74797037        nan 0.74458054\n",
      " 0.74627546 0.7462897  0.74459479        nan 0.71753311 0.70739211\n",
      " 0.71414328 0.71415753        nan 0.71415753 0.71415753 0.71417177\n",
      " 0.71586669        nan 0.68373451 0.69391825 0.69216636 0.70226463]\n",
      "  category=UserWarning,\n"
     ]
    }
   ],
   "source": [
    "dt_classifier = DecisionTreeClassifier()\n",
    "param_grid = {\n",
    "    'max_depth': [3,4,5,6,7,8],\n",
    "    'min_samples_split': [1,2,3,4,5],\n",
    "    'min_samples_leaf': [1,2,3,4,5]\n",
    "}\n",
    "grid_search = GridSearchCV(dt_classifier, param_grid, cv=5, scoring='accuracy')\n",
    "grid_search.fit(X_train, y_train.values.ravel())\n",
    "best_dt_classifier = grid_search.best_estimator_\n",
    "y_pred = best_dt_classifier.predict(X_test)\n",
    "dt_accuracy_norare = accuracy_score(y_test, y_pred)\n",
    "report = classification_report(y_test, y_pred)\n",
    "report_df = pd.DataFrame(list(report.split('\\n')))\n",
    "report_df = report_df.rename(columns={0: 'Metrics'})\n",
    "report_df = report_df[report_df['Metrics'] != '']\n",
    "print(dt_accuracy_norare)\n",
    "print(report_df)"
   ]
  },
  {
   "cell_type": "code",
   "execution_count": 14,
   "metadata": {},
   "outputs": [
    {
     "name": "stdout",
     "output_type": "stream",
     "text": [
      "Cross-validated scores: [0.78151261 0.88135593 0.83050847 0.83050847 0.86440678]\n",
      "Mean CV accuracy: 0.8376584532117931\n",
      "Accuracy on test set: 0.8585858585858586\n"
     ]
    }
   ],
   "source": [
    "svm_classifier = SVC(kernel='linear', probability=True)\n",
    "cv_scores = cross_val_score(svm_classifier, X_train, y_train.values.ravel(), cv=5) \n",
    "svm_classifier.fit(X_train, y_train.values.ravel())\n",
    "y_pred = svm_classifier.predict(X_test)\n",
    "svm_accuracy_norare = accuracy_score(y_test, y_pred)\n",
    "print(\"Cross-validated scores:\", cv_scores)\n",
    "print(\"Mean CV accuracy:\", cv_scores.mean())\n",
    "print(\"Accuracy on test set:\", svm_accuracy_norare)"
   ]
  },
  {
   "cell_type": "markdown",
   "metadata": {},
   "source": [
    "# Playing the game using the SVM model"
   ]
  },
  {
   "cell_type": "markdown",
   "metadata": {},
   "source": [
    "## Copy and paste the titles into the data frame below:"
   ]
  },
  {
   "cell_type": "code",
   "execution_count": 15,
   "metadata": {},
   "outputs": [],
   "source": [
    "game = {'title': ['Improvement of the Theta+ Width Estimation Method on the Light Cone',\n",
    "                  'Cosmic Rays at the Planck Scale and a Nonstandard Solution of Exclusive Models of Inflation']}\n",
    "game_df = pd.DataFrame(game)"
   ]
  },
  {
   "cell_type": "code",
   "execution_count": 16,
   "metadata": {},
   "outputs": [
    {
     "name": "stderr",
     "output_type": "stream",
     "text": [
      "/Users/shawnyou/opt/anaconda3/lib/python3.7/site-packages/sklearn/utils/deprecation.py:87: FutureWarning: Function get_feature_names is deprecated; get_feature_names is deprecated in 1.0 and will be removed in 1.2. Please use get_feature_names_out instead.\n",
      "  warnings.warn(msg, category=FutureWarning)\n",
      "/Users/shawnyou/opt/anaconda3/lib/python3.7/site-packages/sklearn/utils/deprecation.py:87: FutureWarning: Function get_feature_names is deprecated; get_feature_names is deprecated in 1.0 and will be removed in 1.2. Please use get_feature_names_out instead.\n",
      "  warnings.warn(msg, category=FutureWarning)\n"
     ]
    },
    {
     "name": "stdout",
     "output_type": "stream",
     "text": [
      "['arxiv' 'snarxiv']\n",
      "[[0.5596131 0.4403869]\n",
      " [0.0062932 0.9937068]]\n"
     ]
    },
    {
     "name": "stderr",
     "output_type": "stream",
     "text": [
      "/Users/shawnyou/opt/anaconda3/lib/python3.7/site-packages/sklearn/utils/deprecation.py:87: FutureWarning: Function get_feature_names is deprecated; get_feature_names is deprecated in 1.0 and will be removed in 1.2. Please use get_feature_names_out instead.\n",
      "  warnings.warn(msg, category=FutureWarning)\n"
     ]
    }
   ],
   "source": [
    "game_df['title'] = game_df['title'].apply(nfx.remove_stopwords)\n",
    "game_df['title'] = game_df['title'].apply(nfx.remove_punctuations)\n",
    "game_df = game_df.apply(lambda x: x.astype(str).str.lower())\n",
    "\n",
    "lemmatizer = WordNetLemmatizer()\n",
    "\n",
    "def lemmatize_text(text):\n",
    "    words = text.split()\n",
    "    lemmatized_words = [lemmatizer.lemmatize(word) for word in words]\n",
    "    return ' '.join(lemmatized_words)\n",
    "\n",
    "game_df['title'] = game_df['title'].map(lemmatize_text)\n",
    "\n",
    "eng_dict = pd.read_csv('unigram_freq.csv')\n",
    "eng_list = eng_dict['word'].to_list()\n",
    "\n",
    "# make fitted vectorized data\n",
    "# this is snarxiv titles for cosine similarity \n",
    "snarxiv = df[df['label'] == 'snarxiv']\n",
    "arxiv = df[df['label'] == 'arxiv']\n",
    "\n",
    "tfidf_vectorizer = TfidfVectorizer()\n",
    "result_vec = tfidf_vectorizer.fit_transform(snarxiv['title'].values.tolist())\n",
    "snarxiv_vect = pd.DataFrame(result_vec.todense(), columns=tfidf_vectorizer.get_feature_names())\n",
    "\n",
    "vect_list = snarxiv_vect.values.tolist()\n",
    "\n",
    "# tips\n",
    "# vect_list is snarxiv\n",
    "# arxiv_list is arxiv \n",
    "\n",
    "result_vec = tfidf_vectorizer.transform(game_df['title'].values.tolist())\n",
    "game_vect = pd.DataFrame(result_vec.todense(), columns=tfidf_vectorizer.get_feature_names())\n",
    "\n",
    "avg_cos_sim_list = []\n",
    "for i in [0, 1]:\n",
    "    store_cos_sim = []\n",
    "    for j in range(len(vect_list)):\n",
    "        cos_sim = cosine_similarity([vect_list[j]], [game_vect.values.tolist()[i]])\n",
    "        store_cos_sim.append(cos_sim)\n",
    "    avg_cos_sim = sum(store_cos_sim) / len(store_cos_sim)\n",
    "    avg_cos_sim_list.append(avg_cos_sim)\n",
    "cos_sim_list = [i[0] for i in avg_cos_sim_list]\n",
    "cos_sim_df = pd.DataFrame(cos_sim_list)\n",
    "\n",
    "game_df = pd.concat([game_df, cos_sim_df], axis = 1)\n",
    "game_df = game_df.rename(columns={0: \"cos_sim\"})\n",
    "\n",
    "def rare_words_check(split_txt):\n",
    "    count = 0\n",
    "    for word in split_txt:\n",
    "        if word not in combined_word_dict:\n",
    "            count += 1\n",
    "    return count \n",
    "\n",
    "game_df['split_txt'] = [x.split(' ') for x in game_df['title']]\n",
    "game_df['rare_word'] = game_df['split_txt'].apply(rare_words_check)\n",
    "\n",
    "special_char = ['^', '=', '$', '{', '}', '+' ,'-', '*', '/', '\\\\', '$', '#']\n",
    "game_df['ContainsSpecialChar'] = game_df['title'].str.contains('|'.join(map(re.escape, special_char)))\n",
    "game_df['ContainsNumber'] = game_df['title'].str.contains(r'\\d', regex=True)\n",
    "game_df['title_word_count'] = game_df['title'].apply(lambda x: len(str(x).split()))\n",
    "game_df['length'] = game_df['title'].str.len()\n",
    "\n",
    "game_df = game_df[['title', 'cos_sim', 'rare_word', 'ContainsSpecialChar', 'ContainsNumber',\n",
    "                  'title_word_count', 'length']]\n",
    "\n",
    "\n",
    "\n",
    "game_vec = vectorizer.transform(game_df['title'].values.tolist())\n",
    "game_vect = pd.DataFrame(game_vec.todense(), columns=vectorizer.get_feature_names())\n",
    "\n",
    "game_concat = pd.concat([game_vect, game_df[['cos_sim', 'ContainsSpecialChar', 'ContainsNumber', \n",
    "                                             'title_word_count', 'length', \n",
    "                                             'rare_word']].reset_index()], axis = 1)\n",
    "\n",
    "game_concat = game_concat.drop(columns = 'index')\n",
    "\n",
    "game_concat['cos_sim'] = (game_concat['cos_sim'] - cos_mean) / cos_std\n",
    "\n",
    "game_concat['ContainsSpecialChar'] = game_concat['ContainsSpecialChar'].astype(int)\n",
    "\n",
    "game_concat['ContainsNumber'] = game_concat['ContainsNumber'].astype(int)\n",
    "\n",
    "if title_std != 0:\n",
    "    game_concat['title_word_count'] = (game_concat['title_word_count'] - title_mean) / title_std\n",
    "\n",
    "if len_std != 0:\n",
    "    game_concat['length'] = (game_concat['length'] - len_mean) / len_std\n",
    "\n",
    "if rare_std != 0:\n",
    "    game_concat['rare_word'] = (game_concat['rare_word'] - rare_mean) / rare_std\n",
    "    \n",
    "y_pred = svm_classifier.predict(game_concat)\n",
    "probabilities = svm_classifier.predict_proba(game_concat)\n",
    "print(y_pred)\n",
    "print(probabilities) "
   ]
  },
  {
   "cell_type": "code",
   "execution_count": null,
   "metadata": {},
   "outputs": [],
   "source": []
  },
  {
   "cell_type": "markdown",
   "metadata": {},
   "source": [
    "# Error Analysis"
   ]
  },
  {
   "cell_type": "markdown",
   "metadata": {},
   "source": [
    "## Below is a table of all the wrong guesses\n",
    "### If the label is 'arxiv', that means the model guessed snarxiv, but it was actually arxiv\n",
    "### If the label is 'snarxiv', that means the model guessed arxiv, but it was actually snarxiv"
   ]
  },
  {
   "cell_type": "code",
   "execution_count": 17,
   "metadata": {},
   "outputs": [],
   "source": [
    "wrong = [['Large Lepton Flavor Mixings in $SU(6) Imes SU(2)_R$ Model', 'arxiv'],\n",
    "['Monstrous Moonshine Implements a Non-gauge Mediated Reduction of a Non-low-scale Model With Neutralinos', 'arxiv'],\n",
    "['A Unified Model for Inelastic E-N and Nu-N Cross Sections at All Q2', 'arxiv'],\n",
    "['Using and Constraining Nonforward Parton Distributions (Deeply Virtual   Neutrino Scattering in Cosmic Rays and Light Dark Matter Searches)', 'arxiv'],\n",
    "['A New Determination of the QED Coupling Alpha(M_Z^2) Lets the Higgs Off   the Hook', 'arxiv'],\n",
    "['The Effective Action of N=8 Supergravity', 'arxiv'],\n",
    "['Upper Bound on the Mass Scale of Superpartners in Minimal N=2   Supersymmetry', 'arxiv'],\n",
    "['Confinement and the Second Vortex of the SU(4) Gauge Group', 'arxiv'],\n",
    "['Reconstructing Non-abelian Gerbs: Tensor Networks During Inflation', 'arxiv'],\n",
    "['The March Towards No-scale Supergravity', 'arxiv'],\n",
    "['Brane Solutions of a Spherical Sigma Model in Six Dimensions', 'arxiv'],\n",
    "['CP Asymmetry in $B  O Phi K_S$ in a General Two-Higgs-doublet Model   With Fourth-generation Quarks', 'arxiv'],\n",
    "['Charmonium Suppression by Gluon Bremsstrahlung in P-A and A-B Collisions', 'arxiv'],\n",
    "['72 Years of Debate With Dirac-Glashow', 'snarxiv'],\n",
    "['Comments on Large Logarithms', 'snarxiv'],\n",
    "['Towards Tomita-Takesaki Theory in Weak-dissipative Inflation', 'snarxiv'],\n",
    "['Comment on a Proposal by Susskind', 'snarxiv'],\n",
    "['Conformal Algebras in String Theory in the Presence of Hypersurface Defects', 'snarxiv'],\n",
    "['Towards the Low-energy Limit', 'snarxiv'],\n",
    "['Scalar Mechanics Implemented via Path Integrals', 'snarxiv'],\n",
    "['Vanishing Clebsch-Gordon Decomposition', 'snarxiv'],\n",
    "['Exploring Duality: A Broken Yangian Symmetric Technique', 'snarxiv'],\n",
    "['Comments on String Theory ', 'snarxiv'],\n",
    "['The Analytic Continuation of Topological String Theory Supported on CY_8', 'snarxiv'],\n",
    "['Conifold Singularities', 'snarxiv'],\n",
    "['The HRT Surface Discovered Using Hilbert Schemes', 'snarxiv'],\n",
    "['String Theories ', 'snarxiv'],\n",
    "['Stable Monopoles Are Inverted Inflationary', 'snarxiv'],\n",
    "['Hypersurface Defects', 'snarxiv'],\n",
    "['Superconvergence Sum Rules', 'snarxiv'],\n",
    "['Discrete Boundary-dualities', 'snarxiv'],\n",
    "['Condensate Remnants', 'snarxiv'],\n",
    "['UV Behavior in Variable Mass Hydrodynamics', 'snarxiv'],\n",
    "['33 Years of Debate With Lorentz-Einstein', 'snarxiv'],\n",
    "['Soft Theorems in F-Theory Deformed by Hypersurface Operators', 'snarxiv'],\n",
    "['Black Hole Complementarity', 'snarxiv'],\n",
    "['Comments on Symplectic Quotients on C^n', 'snarxiv'],\n",
    "['On Anomaly Matching', 'snarxiv'],\n",
    "['Perturbation Theory on Superspace Derived via E_6 Characters', 'snarxiv'],\n",
    "['Towards Considering String Theories ', 'snarxiv']]\n",
    "\n",
    "wrong_df = pd.DataFrame(wrong, columns=['title', 'label'])\n"
   ]
  },
  {
   "cell_type": "code",
   "execution_count": 18,
   "metadata": {},
   "outputs": [
    {
     "name": "stderr",
     "output_type": "stream",
     "text": [
      "/Users/shawnyou/opt/anaconda3/lib/python3.7/site-packages/sklearn/utils/deprecation.py:87: FutureWarning: Function get_feature_names is deprecated; get_feature_names is deprecated in 1.0 and will be removed in 1.2. Please use get_feature_names_out instead.\n",
      "  warnings.warn(msg, category=FutureWarning)\n",
      "/Users/shawnyou/opt/anaconda3/lib/python3.7/site-packages/sklearn/utils/deprecation.py:87: FutureWarning: Function get_feature_names is deprecated; get_feature_names is deprecated in 1.0 and will be removed in 1.2. Please use get_feature_names_out instead.\n",
      "  warnings.warn(msg, category=FutureWarning)\n"
     ]
    }
   ],
   "source": [
    "wrong_df['title'] = wrong_df['title'].apply(nfx.remove_stopwords)\n",
    "wrong_df['title'] = wrong_df['title'].apply(nfx.remove_punctuations)\n",
    "wrong_df = wrong_df.apply(lambda x: x.astype(str).str.lower())\n",
    "\n",
    "lemmatizer = WordNetLemmatizer()\n",
    "\n",
    "def lemmatize_text(text):\n",
    "    words = text.split()\n",
    "    lemmatized_words = [lemmatizer.lemmatize(word) for word in words]\n",
    "    return ' '.join(lemmatized_words)\n",
    "\n",
    "wrong_df['title'] = wrong_df['title'].map(lemmatize_text)\n",
    "\n",
    "wrong_df['title_word_count'] = wrong_df['title'].apply(lambda x: len(str(x).split()))\n",
    "wrong_df['length'] = wrong_df['title'].str.len()\n",
    "wrong_df['split_txt'] = [x.split(' ') for x in wrong_df['title']]\n",
    "wrong_df['rare_word'] = wrong_df['split_txt'].apply(rare_words_check)\n",
    "\n",
    "# make fitted vectorized data\n",
    "# this is snarxiv titles for cosine similarity \n",
    "snarxiv = df[df['label'] == 'snarxiv']\n",
    "arxiv = df[df['label'] == 'arxiv']\n",
    "\n",
    "tfidf_vectorizer = TfidfVectorizer()\n",
    "result_vec = tfidf_vectorizer.fit_transform(snarxiv['title'].values.tolist())\n",
    "snarxiv_vect = pd.DataFrame(result_vec.todense(), columns=tfidf_vectorizer.get_feature_names())\n",
    "\n",
    "vect_list = snarxiv_vect.values.tolist()\n",
    "\n",
    "# tips\n",
    "# vect_list is snarxiv\n",
    "# arxiv_list is arxiv \n",
    "\n",
    "\n",
    "result_vec = tfidf_vectorizer.transform(wrong_df['title'].values.tolist())\n",
    "wrong_vect = pd.DataFrame(result_vec.todense(), columns=tfidf_vectorizer.get_feature_names())\n",
    "\n",
    "avg_cos_sim_list = []\n",
    "for i in range(len(wrong_df)):\n",
    "    store_cos_sim = []\n",
    "    for j in range(len(vect_list)):\n",
    "        cos_sim = cosine_similarity([vect_list[j]], [wrong_vect.values.tolist()[i]])\n",
    "        store_cos_sim.append(cos_sim)\n",
    "    avg_cos_sim = sum(store_cos_sim) / len(store_cos_sim)\n",
    "    avg_cos_sim_list.append(avg_cos_sim)\n",
    "cos_sim_list = [i[0] for i in avg_cos_sim_list]\n",
    "cos_sim_df = pd.DataFrame(cos_sim_list)\n",
    "\n",
    "wrong_df = pd.concat([wrong_df, cos_sim_df], axis = 1)\n",
    "wrong_df = wrong_df.rename(columns={0: \"cos_sim\"})"
   ]
  },
  {
   "cell_type": "code",
   "execution_count": 19,
   "metadata": {},
   "outputs": [
    {
     "name": "stdout",
     "output_type": "stream",
     "text": [
      "predicted snarxiv, but was actually arxiv:  13\n",
      "predicted arxiv, but was actually snarxiv:  27\n"
     ]
    }
   ],
   "source": [
    "print('predicted snarxiv, but was actually arxiv: ', len(wrong_df[wrong_df['label'] == 'arxiv']))\n",
    "print('predicted arxiv, but was actually snarxiv: ', len(wrong_df[wrong_df['label'] == 'snarxiv']))"
   ]
  },
  {
   "cell_type": "code",
   "execution_count": 20,
   "metadata": {},
   "outputs": [
    {
     "name": "stdout",
     "output_type": "stream",
     "text": [
      "predicted snarxiv but actually arxiv mean word count:  7.461538461538462\n",
      "training snarxiv mean word count:  6.4759493670886075\n",
      " \n",
      "predicted arxiv but actually snarxiv mean word count:  3.7777777777777777\n",
      "training arxiv mean word count:  4.355329949238579\n",
      " \n",
      "predicted snarxiv but actually arxiv mean length:  58.69230769230769\n",
      "training snarxiv mean length:  52.379746835443036\n",
      " \n",
      "predicted arxiv but actually snarxiv mean length:  32.407407407407405\n",
      "training arxiv mean length:  35.97715736040609\n",
      " \n",
      "predicted snarxiv but actually arxiv cos sim:  0.013233819938937253\n",
      "training snarxiv cos sim:  0.0161054461259674\n",
      " \n",
      "predicted arxiv but actually snarxiv cos sim:  0.010999880029096687\n",
      "training arxiv cos sim:  0.00862376353771865\n"
     ]
    }
   ],
   "source": [
    "print('predicted snarxiv but actually arxiv mean word count: ',wrong_df[wrong_df['label'] == 'arxiv']['title_word_count'].mean())\n",
    "print('training snarxiv mean word count: ', snarxiv['title_word_count'].mean())\n",
    "print(' ')\n",
    "print('predicted arxiv but actually snarxiv mean word count: ',wrong_df[wrong_df['label'] == 'snarxiv']['title_word_count'].mean())\n",
    "print('training arxiv mean word count: ', arxiv['title_word_count'].mean())\n",
    "print(' ')\n",
    "print('predicted snarxiv but actually arxiv mean length: ',wrong_df[wrong_df['label'] == 'arxiv']['length'].mean())\n",
    "print('training snarxiv mean length: ', snarxiv['length'].mean())\n",
    "print(' ')\n",
    "print('predicted arxiv but actually snarxiv mean length: ',wrong_df[wrong_df['label'] == 'snarxiv']['length'].mean())\n",
    "print('training arxiv mean length: ', arxiv['length'].mean())\n",
    "print(' ')\n",
    "print('predicted snarxiv but actually arxiv cos sim: ',wrong_df[wrong_df['label'] == 'arxiv']['cos_sim'].mean())\n",
    "print('training snarxiv cos sim: ', snarxiv['cos_sim'].mean())\n",
    "print(' ')\n",
    "print('predicted arxiv but actually snarxiv cos sim: ',wrong_df[wrong_df['label'] == 'snarxiv']['cos_sim'].mean())\n",
    "print('training arxiv cos sim: ', arxiv['cos_sim'].mean())"
   ]
  },
  {
   "cell_type": "code",
   "execution_count": 21,
   "metadata": {},
   "outputs": [
    {
     "data": {
      "image/png": "[encoded data removed]",
      "text/plain": [
       "<Figure size 432x288 with 1 Axes>"
      ]
     },
     "metadata": {
      "needs_background": "light"
     },
     "output_type": "display_data"
    },
    {
     "data": {
      "image/png": "[encoded data removed]",
      "text/plain": [
       "<Figure size 432x288 with 1 Axes>"
      ]
     },
     "metadata": {
      "needs_background": "light"
     },
     "output_type": "display_data"
    },
    {
     "data": {
      "image/png": "[encoded data removed]",
      "text/plain": [
       "<Figure size 432x288 with 1 Axes>"
      ]
     },
     "metadata": {
      "needs_background": "light"
     },
     "output_type": "display_data"
    }
   ],
   "source": [
    "snarxiv_word_ct = snarxiv['title_word_count'].tolist()\n",
    "arxiv_word_ct = arxiv['title_word_count'].tolist()\n",
    "\n",
    "plt.hist(arxiv_word_ct, color = 'r', alpha = 0.5, label = 'arxiv')\n",
    "plt.hist(snarxiv_word_ct, color = 'g', alpha = 0.5, label = 'snarxiv')\n",
    "plt.axvline(x = 7.461538461538462, color = 'r', label = 'predicted snarxiv, actually arxiv')\n",
    "plt.axvline(x = 3.7777777777777777, color = 'g', label = 'predicted arxiv, actually snarxiv')\n",
    "plt.legend()\n",
    "plt.ylabel('count')\n",
    "plt.xlabel('word count')\n",
    "plt.title('histogram of word count')\n",
    "plt.show()\n",
    "\n",
    "snarxiv_length = snarxiv['length'].tolist()\n",
    "arxiv_length = arxiv['length'].tolist()\n",
    "\n",
    "plt.hist(arxiv_length, color = 'r', alpha = 0.5, label = 'arxiv')\n",
    "plt.hist(snarxiv_length, color = 'g', alpha = 0.5, label = 'snarxiv')\n",
    "plt.axvline(x = 58.69230769230769, color = 'r', label = 'predicted snarxiv, actually arxiv')\n",
    "plt.axvline(x = 32.407407407407405, color = 'g', label = 'predicted arxiv, actually snarxiv')\n",
    "plt.legend()\n",
    "plt.ylabel('count')\n",
    "plt.xlabel('length')\n",
    "plt.title('histogram of length')\n",
    "plt.show()\n",
    "\n",
    "snarxiv_cos = snarxiv['cos_sim'].tolist()\n",
    "arxiv_cos = arxiv['cos_sim'].tolist()\n",
    "\n",
    "plt.hist(arxiv_cos, color = 'r', alpha = 0.5, label = 'arxiv')\n",
    "plt.hist(snarxiv_cos, color = 'g', alpha = 0.5, label = 'snarxiv')\n",
    "plt.axvline(x = wrong_df[wrong_df['label'] == 'arxiv']['cos_sim'].mean(), color = 'r', \n",
    "            label = 'predicted snarxiv, actually arxiv')\n",
    "plt.axvline(x = wrong_df[wrong_df['label'] == 'snarxiv']['cos_sim'].mean(), color = 'g', \n",
    "            label = 'predicted arxiv, actually snarxiv')\n",
    "plt.legend()\n",
    "plt.ylabel('count')\n",
    "plt.xlabel('cos sim')\n",
    "plt.title('histogram of cos sim')\n",
    "plt.show()"
   ]
  },
  {
   "cell_type": "markdown",
   "metadata": {},
   "source": [
    "## Training dataset distributions plots"
   ]
  },
  {
   "cell_type": "code",
   "execution_count": 22,
   "metadata": {},
   "outputs": [],
   "source": [
    "snarxiv = df[df['label'] == 'snarxiv']\n",
    "arxiv = df[df['label'] == 'arxiv']"
   ]
  },
  {
   "cell_type": "code",
   "execution_count": 23,
   "metadata": {},
   "outputs": [
    {
     "data": {
      "image/png": "[encoded data removed]",
      "text/plain": [
       "<Figure size 432x288 with 1 Axes>"
      ]
     },
     "metadata": {
      "needs_background": "light"
     },
     "output_type": "display_data"
    }
   ],
   "source": [
    "snarxiv_cos = snarxiv['cos_sim'].tolist()\n",
    "arxiv_cos = arxiv['cos_sim'].tolist()\n",
    "\n",
    "plt.hist(arxiv_cos, color = 'r', alpha = 0.5, label = 'arxiv')\n",
    "plt.hist(snarxiv_cos, color = 'g', alpha = 0.5, label = 'snarxiv')\n",
    "plt.legend()\n",
    "plt.ylabel('count')\n",
    "plt.xlabel('cos sim')\n",
    "plt.title('histogram of cos sim')\n",
    "plt.show()"
   ]
  },
  {
   "cell_type": "code",
   "execution_count": 24,
   "metadata": {},
   "outputs": [
    {
     "data": {
      "image/png": "[encoded data removed]",
      "text/plain": [
       "<Figure size 432x288 with 1 Axes>"
      ]
     },
     "metadata": {
      "needs_background": "light"
     },
     "output_type": "display_data"
    }
   ],
   "source": [
    "snarxiv_rare = snarxiv['rare_word'].tolist()\n",
    "arxiv_rare = arxiv['rare_word'].tolist()\n",
    "\n",
    "plt.hist(arxiv_rare, color = 'r', alpha = 0.5, label = 'arxiv', bins = 4)\n",
    "plt.hist(snarxiv_rare, color = 'g', alpha = 0.5, label = 'snarxiv', bins = 5)\n",
    "plt.legend()\n",
    "plt.ylabel('count')\n",
    "plt.xlabel('# rare words')\n",
    "plt.title('histogram of # rare words')\n",
    "plt.show()"
   ]
  },
  {
   "cell_type": "code",
   "execution_count": 26,
   "metadata": {},
   "outputs": [
    {
     "data": {
      "image/png": "[encoded data removed]",
      "text/plain": [
       "<Figure size 432x288 with 1 Axes>"
      ]
     },
     "metadata": {
      "needs_background": "light"
     },
     "output_type": "display_data"
    }
   ],
   "source": [
    "snarxiv_length = snarxiv['length'].tolist()\n",
    "arxiv_length = arxiv['length'].tolist()\n",
    "\n",
    "plt.hist(arxiv_length, color = 'r', alpha = 0.5, label = 'arxiv')\n",
    "plt.hist(snarxiv_length, color = 'g', alpha = 0.5, label = 'snarxiv')\n",
    "plt.legend()\n",
    "plt.ylabel('count')\n",
    "plt.xlabel('length')\n",
    "plt.title('histogram of length')\n",
    "plt.show()"
   ]
  },
  {
   "cell_type": "markdown",
   "metadata": {},
   "source": [
    "## Feature weights"
   ]
  },
  {
   "cell_type": "code",
   "execution_count": 25,
   "metadata": {},
   "outputs": [
    {
     "name": "stdout",
     "output_type": "stream",
     "text": [
      "          0                    1               2                 3         4  \\\n",
      "0   cos_sim  ContainsSpecialChar  ContainsNumber  title_word_count    length   \n",
      "1  0.946694             0.738249        0.687492          0.043794  0.140983   \n",
      "\n",
      "           5  \n",
      "0  rare_word  \n",
      "1  -0.195132  \n"
     ]
    }
   ],
   "source": [
    "norm = count_concat.iloc[:, -7:]\n",
    "\n",
    "X = norm.drop(['label'], axis=1)\n",
    "y = norm[['label']]\n",
    "\n",
    "X_train, X_test, y_train, y_test = train_test_split(\n",
    "    X, y, test_size=0.25,random_state = 395786)\n",
    "\n",
    "svm_classifier = SVC(kernel='linear', probability = True)\n",
    "svm_classifier.fit(X_train, y_train.values.ravel())\n",
    "y_pred = svm_classifier.predict(X_test)\n",
    "svm_accuracy_norare = accuracy_score(y_test, y_pred)\n",
    "report = classification_report(y_test, y_pred)\n",
    "report_df = pd.DataFrame(list(report.split('\\n')))\n",
    "report_df = report_df.rename(columns={0: 'Metrics'})\n",
    "report_df = report_df[report_df['Metrics'] != '']\n",
    "\n",
    "print(pd.DataFrame((X.columns, svm_classifier.coef_[0])))"
   ]
  },
  {
   "cell_type": "code",
   "execution_count": 26,
   "metadata": {},
   "outputs": [
    {
     "data": {
      "image/png": "[encoded data removed]",
      "text/plain": [
       "<Figure size 432x288 with 1 Axes>"
      ]
     },
     "metadata": {
      "needs_background": "light"
     },
     "output_type": "display_data"
    }
   ],
   "source": [
    "svm_coef = [abs(number) for number in list(svm_classifier.coef_[0])]\n",
    "features = ['cos_sim', 'special_char', 'contains_num', 'words_in_title', 'length', 'rare_words']\n",
    "\n",
    "width = 0.35\n",
    "x = np.arange(len(features)) \n",
    "plt.bar(x - width/2, svm_coef, width, label='SVM Coef')\n",
    "plt.xticks(x, features, rotation = 40)\n",
    "plt.ylabel('weight')\n",
    "plt.xlabel('features')\n",
    "plt.title('weights for engineered features')\n",
    "plt.show()"
   ]
  },
  {
   "cell_type": "markdown",
   "metadata": {},
   "source": [
    "## Title analysis"
   ]
  },
  {
   "cell_type": "code",
   "execution_count": 27,
   "metadata": {},
   "outputs": [],
   "source": [
    "title_vect_nolabel = count_concat.iloc[:,:-7]\n",
    "label = count_concat[['label']]\n",
    "title_vect = pd.concat([title_vect_nolabel,label], axis = 1)\n",
    "\n",
    "X = title_vect.drop(['label'], axis=1)\n",
    "y = title_vect[['label']]\n",
    "\n",
    "X_train, X_test, y_train, y_test = train_test_split(\n",
    "    X, y, test_size=0.25,random_state = 395786)\n",
    "\n",
    "svm_classifier = SVC(kernel='linear', probability = True)\n",
    "svm_classifier.fit(X_train, y_train.values.ravel())\n",
    "y_pred = svm_classifier.predict(X_test)\n",
    "svm_accuracy_norare = accuracy_score(y_test, y_pred)\n",
    "report = classification_report(y_test, y_pred)\n",
    "report_df = pd.DataFrame(list(report.split('\\n')))\n",
    "report_df = report_df.rename(columns={0: 'Metrics'})\n",
    "report_df = report_df[report_df['Metrics'] != '']"
   ]
  },
  {
   "cell_type": "markdown",
   "metadata": {},
   "source": [
    "## Model Prediction: 0 is arxiv, 1 is snarxiv\n",
    "## Negative weights therefore predict arxiv and vice versa"
   ]
  },
  {
   "cell_type": "code",
   "execution_count": 28,
   "metadata": {},
   "outputs": [],
   "source": [
    "svm_title_coef = [number for number in list(svm_classifier.coef_[0])]\n",
    "titles = list(X.columns)\n",
    "svm_titles_dict = {titles[i]: svm_title_coef[i] for i in range(len(titles))}"
   ]
  },
  {
   "cell_type": "markdown",
   "metadata": {},
   "source": [
    "### Top words that predict towards arxiv"
   ]
  },
  {
   "cell_type": "code",
   "execution_count": 29,
   "metadata": {},
   "outputs": [
    {
     "data": {
      "text/plain": [
       "[('field', -1.5164019722899633),\n",
       " ('aspect', -1.333116993255218),\n",
       " ('standard', -1.2361820423192957),\n",
       " ('physic', -1.2332695041016248),\n",
       " ('kp', -1.1661689492053389),\n",
       " ('challenge', -1.1033563839987182),\n",
       " ('structure', -0.9248446823909213),\n",
       " ('new', -0.8958673161938889),\n",
       " ('vacuum', -0.8930283969132038),\n",
       " ('super', -0.862437844776516)]"
      ]
     },
     "execution_count": 29,
     "metadata": {},
     "output_type": "execute_result"
    }
   ],
   "source": [
    "arxiv_svm_items = sorted(svm_titles_dict.items(), key=lambda x: x[1], reverse=False)[:10]\n",
    "arxiv_svm_items"
   ]
  },
  {
   "cell_type": "markdown",
   "metadata": {},
   "source": [
    "### Top words that predict towards snarxiv"
   ]
  },
  {
   "cell_type": "code",
   "execution_count": 30,
   "metadata": {
    "scrolled": true
   },
   "outputs": [
    {
     "data": {
      "text/plain": [
       "[('model', 2.0206031746721678),\n",
       " ('problem', 1.6846156894671573),\n",
       " ('instantons', 1.5570264387085384),\n",
       " ('progress', 1.442327742549101),\n",
       " ('type', 1.3836242470390545),\n",
       " ('approach', 1.3594951227379635),\n",
       " ('firewall', 1.3434775034305333),\n",
       " ('brane', 1.2801058834177745),\n",
       " ('reviewing', 1.26369036661346),\n",
       " ('cosmic', 1.260978397826878)]"
      ]
     },
     "execution_count": 30,
     "metadata": {},
     "output_type": "execute_result"
    }
   ],
   "source": [
    "snarxiv_svm_items = sorted(svm_titles_dict.items(), key=lambda x: x[1], reverse=True)[:10]\n",
    "snarxiv_svm_items"
   ]
  },
  {
   "cell_type": "markdown",
   "metadata": {},
   "source": [
    "# Validating using the testing dataset"
   ]
  },
  {
   "cell_type": "code",
   "execution_count": 152,
   "metadata": {},
   "outputs": [],
   "source": [
    "df_test['title'] = df_test['title'].apply(nfx.remove_stopwords)\n",
    "df_test['title'] = df_test['title'].apply(nfx.remove_punctuations)\n",
    "df_test = df_test.apply(lambda x: x.astype(str).str.lower())\n",
    "\n",
    "lemmatizer = WordNetLemmatizer()\n",
    "\n",
    "def lemmatize_text(text):\n",
    "    words = text.split()\n",
    "    lemmatized_words = [lemmatizer.lemmatize(word) for word in words]\n",
    "    return ' '.join(lemmatized_words)\n",
    "\n",
    "df_test['title'] = df_test['title'].map(lemmatize_text)"
   ]
  },
  {
   "cell_type": "code",
   "execution_count": 153,
   "metadata": {},
   "outputs": [
    {
     "name": "stderr",
     "output_type": "stream",
     "text": [
      "/Users/shawnyou/opt/anaconda3/lib/python3.7/site-packages/sklearn/utils/deprecation.py:87: FutureWarning: Function get_feature_names is deprecated; get_feature_names is deprecated in 1.0 and will be removed in 1.2. Please use get_feature_names_out instead.\n",
      "  warnings.warn(msg, category=FutureWarning)\n",
      "/Users/shawnyou/opt/anaconda3/lib/python3.7/site-packages/sklearn/utils/deprecation.py:87: FutureWarning: Function get_feature_names is deprecated; get_feature_names is deprecated in 1.0 and will be removed in 1.2. Please use get_feature_names_out instead.\n",
      "  warnings.warn(msg, category=FutureWarning)\n"
     ]
    }
   ],
   "source": [
    "eng_dict = pd.read_csv('unigram_freq.csv')\n",
    "eng_list = eng_dict['word'].to_list()\n",
    "\n",
    "snarxiv = df[df['label'] == 'snarxiv']\n",
    "arxiv = df[df['label'] == 'arxiv']\n",
    "\n",
    "tfidf_vectorizer = TfidfVectorizer()\n",
    "result_vec = tfidf_vectorizer.fit_transform(snarxiv['title'].values.tolist())\n",
    "snarxiv_vect = pd.DataFrame(result_vec.todense(), columns=tfidf_vectorizer.get_feature_names())\n",
    "\n",
    "vect_list = snarxiv_vect.values.tolist()\n",
    "result_vec = tfidf_vectorizer.transform(df_test['title'].values.tolist())\n",
    "game_vect = pd.DataFrame(result_vec.todense(), columns=tfidf_vectorizer.get_feature_names())\n",
    "\n",
    "avg_cos_sim_list = []\n",
    "for i in range(len(df_test)):\n",
    "    store_cos_sim = []\n",
    "    for j in range(len(vect_list)):\n",
    "        cos_sim = cosine_similarity([vect_list[j]], [game_vect.values.tolist()[i]])\n",
    "        store_cos_sim.append(cos_sim)\n",
    "    avg_cos_sim = sum(store_cos_sim) / len(store_cos_sim)\n",
    "    avg_cos_sim_list.append(avg_cos_sim)\n",
    "cos_sim_list = [i[0] for i in avg_cos_sim_list]\n",
    "cos_sim_df = pd.DataFrame(cos_sim_list)\n",
    "\n",
    "df_testing = pd.concat([df_test, cos_sim_df], axis = 1)\n",
    "df_testing = df_testing.rename(columns={0: \"cos_sim\"})\n"
   ]
  },
  {
   "cell_type": "code",
   "execution_count": 155,
   "metadata": {},
   "outputs": [],
   "source": [
    "def rare_words_check(split_txt):\n",
    "    count = 0\n",
    "    for word in split_txt:\n",
    "        if word not in combined_word_dict:\n",
    "            count += 1\n",
    "    return count \n",
    "\n",
    "df_testing['split_txt'] = [x.split(' ') for x in df_testing['title']]\n",
    "df_testing['rare_word'] = df_testing['split_txt'].apply(rare_words_check)\n",
    "\n",
    "special_char = ['^', '=', '$', '{', '}', '+' ,'-', '*', '/', '\\\\', '$', '#']\n",
    "df_testing['ContainsSpecialChar'] = df_testing['title'].str.contains('|'.join(map(re.escape, special_char)))\n",
    "df_testing['ContainsNumber'] = df_testing['title'].str.contains(r'\\d', regex=True)\n",
    "df_testing['title_word_count'] = df_testing['title'].apply(lambda x: len(str(x).split()))\n",
    "df_testing['length'] = df_testing['title'].str.len()\n",
    "\n",
    "df_testing = df_testing[['title', 'cos_sim', 'rare_word', 'ContainsSpecialChar', 'ContainsNumber',\n",
    "                  'title_word_count', 'length', 'label']]"
   ]
  },
  {
   "cell_type": "code",
   "execution_count": 162,
   "metadata": {},
   "outputs": [
    {
     "name": "stderr",
     "output_type": "stream",
     "text": [
      "/Users/shawnyou/opt/anaconda3/lib/python3.7/site-packages/sklearn/utils/deprecation.py:87: FutureWarning: Function get_feature_names is deprecated; get_feature_names is deprecated in 1.0 and will be removed in 1.2. Please use get_feature_names_out instead.\n",
      "  warnings.warn(msg, category=FutureWarning)\n"
     ]
    }
   ],
   "source": [
    "game_vec = vectorizer.transform(df_testing['title'].values.tolist())\n",
    "game_vect = pd.DataFrame(game_vec.todense(), columns=vectorizer.get_feature_names())\n",
    "\n",
    "game_concat1 = pd.concat([game_vect, df_testing[['cos_sim', 'ContainsSpecialChar', 'ContainsNumber', \n",
    "                                             'title_word_count', 'length', \n",
    "                                             'rare_word','label']].reset_index()], axis = 1)\n",
    "\n",
    "game_concat1 = game_concat1.drop(columns = 'index')\n",
    "\n",
    "game_concat1['cos_sim'] = (game_concat1['cos_sim'] - cos_mean) / cos_std\n",
    "\n",
    "game_concat1['ContainsSpecialChar'] = game_concat1['ContainsSpecialChar'].astype(int)\n",
    "\n",
    "game_concat1['ContainsNumber'] = game_concat1['ContainsNumber'].astype(int)\n",
    "\n",
    "if title_std != 0:\n",
    "    game_concat1['title_word_count'] = (game_concat1['title_word_count'] - title_mean) / title_std\n",
    "\n",
    "if len_std != 0:\n",
    "    game_concat1['length'] = (game_concat1['length'] - len_mean) / len_std\n",
    "\n",
    "if rare_std != 0:\n",
    "    game_concat1['rare_word'] = (game_concat1['rare_word'] - rare_mean) / rare_std"
   ]
  },
  {
   "cell_type": "code",
   "execution_count": 164,
   "metadata": {},
   "outputs": [],
   "source": [
    "X = game_concat1.drop(['label'], axis=1)\n",
    "y = game_concat1[['label']]"
   ]
  },
  {
   "cell_type": "code",
   "execution_count": 166,
   "metadata": {},
   "outputs": [
    {
     "name": "stdout",
     "output_type": "stream",
     "text": [
      "0.89\n",
      "                                             Metrics\n",
      "0                precision    recall  f1-score   ...\n",
      "2         arxiv       0.84      0.96      0.90   ...\n",
      "3       snarxiv       0.95      0.82      0.88   ...\n",
      "5      accuracy                           0.89   ...\n",
      "6     macro avg       0.90      0.89      0.89   ...\n",
      "7  weighted avg       0.90      0.89      0.89   ...\n"
     ]
    }
   ],
   "source": [
    "y_pred = svm_classifier.predict(X)\n",
    "svm_accuracy_norare = accuracy_score(y, y_pred)\n",
    "report = classification_report(y, y_pred)\n",
    "report_df = pd.DataFrame(list(report.split('\\n')))\n",
    "report_df = report_df.rename(columns={0: 'Metrics'})\n",
    "report_df = report_df[report_df['Metrics'] != '']\n",
    "print(svm_accuracy_norare)\n",
    "print(report_df)"
   ]
  },
  {
   "cell_type": "code",
   "execution_count": null,
   "metadata": {},
   "outputs": [],
   "source": []
  },
  {
   "cell_type": "code",
   "execution_count": null,
   "metadata": {},
   "outputs": [],
   "source": []
  },
  {
   "cell_type": "code",
   "execution_count": null,
   "metadata": {},
   "outputs": [],
   "source": []
  },
  {
   "cell_type": "code",
   "execution_count": null,
   "metadata": {},
   "outputs": [],
   "source": []
  },
  {
   "cell_type": "code",
   "execution_count": null,
   "metadata": {},
   "outputs": [],
   "source": []
  },
  {
   "cell_type": "code",
   "execution_count": null,
   "metadata": {},
   "outputs": [],
   "source": []
  },
  {
   "cell_type": "code",
   "execution_count": null,
   "metadata": {},
   "outputs": [],
   "source": []
  }
 ],
 "metadata": {
  "kernelspec": {
   "display_name": "Python 3",
   "language": "python",
   "name": "python3"
  },
  "language_info": {
   "codemirror_mode": {
    "name": "ipython",
    "version": 3
   },
   "file_extension": ".py",
   "mimetype": "text/x-python",
   "name": "python",
   "nbconvert_exporter": "python",
   "pygments_lexer": "ipython3",
   "version": "3.7.4"
  }
 },
 "nbformat": 4,
 "nbformat_minor": 2
}
